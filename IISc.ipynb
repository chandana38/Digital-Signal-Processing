{
  "nbformat": 4,
  "nbformat_minor": 0,
  "metadata": {
    "colab": {
      "provenance": [],
      "authorship_tag": "ABX9TyPIHScxzPrC2T9KYW7Np2N3",
      "include_colab_link": true
    },
    "kernelspec": {
      "name": "python3",
      "display_name": "Python 3"
    },
    "language_info": {
      "name": "python"
    }
  },
  "cells": [
    {
      "cell_type": "markdown",
      "metadata": {
        "id": "view-in-github",
        "colab_type": "text"
      },
      "source": [
        "<a href=\"https://colab.research.google.com/github/chandana38/Digital-Signal-Processing/blob/main/IISc.ipynb\" target=\"_parent\"><img src=\"https://colab.research.google.com/assets/colab-badge.svg\" alt=\"Open In Colab\"/></a>"
      ]
    },
    {
      "cell_type": "code",
      "execution_count": 1,
      "metadata": {
        "colab": {
          "base_uri": "https://localhost:8080/"
        },
        "id": "ZzJkqNit43Ny",
        "outputId": "654ec7e5-fd49-4d28-866a-8161156993bc"
      },
      "outputs": [
        {
          "output_type": "stream",
          "name": "stdout",
          "text": [
            "Alice\n",
            "30\n"
          ]
        }
      ],
      "source": [
        "class Person:\n",
        "    def __init__(self, name, age):\n",
        "        self.name = name\n",
        "        self.age = age\n",
        "\n",
        "# Usage\n",
        "person = Person(\"Alice\", 30)\n",
        "print(person.name)  # Output: Alice\n",
        "print(person.age)   # Output: 30\n"
      ]
    },
    {
      "cell_type": "code",
      "source": [
        "class Gate:\n",
        "    def __init__(self, weights, bias):\n",
        "        self.weights = weights\n",
        "        self.bias = bias\n",
        "        self.id = 1\n",
        "\n",
        "# Usage\n",
        "AND = Gate([[0, -1, 2], [-1, 0, 2], [2, 2, 0]], [1, 1, -2])  #row column\n",
        "print(AND.weights)   # Output: 30\n",
        "print(AND.id)\n",
        "print(AND.bias)"
      ],
      "metadata": {
        "colab": {
          "base_uri": "https://localhost:8080/"
        },
        "id": "yTuiQJeM4970",
        "outputId": "c80d28aa-a21d-4f0e-a4e8-81a32da085ff"
      },
      "execution_count": 26,
      "outputs": [
        {
          "output_type": "stream",
          "name": "stdout",
          "text": [
            "[[0, -1, 2], [-1, 0, 2], [2, 2, 0]]\n",
            "1\n",
            "[1, 1, -2]\n"
          ]
        }
      ]
    },
    {
      "cell_type": "code",
      "source": [
        "class Gate:\n",
        "    def __init__(self, weights, bias):\n",
        "        self.weights = weights\n",
        "        self.bias = bias\n",
        "        self.id = 2\n",
        "\n",
        "# Usage\n",
        "OR = Gate([[0, -1, 2], [-1, 0, 2], [2, 2, 0]], [-1, -1, 2])  #row column\n",
        "print(OR.weights)   # Output: 30\n",
        "print(OR.id)\n",
        "print(OR.bias)"
      ],
      "metadata": {
        "colab": {
          "base_uri": "https://localhost:8080/"
        },
        "id": "jFvZXNEB6chM",
        "outputId": "3e5ad3aa-be56-4faa-ad0e-6420e0c124a2"
      },
      "execution_count": 25,
      "outputs": [
        {
          "output_type": "stream",
          "name": "stdout",
          "text": [
            "[[0, -1, 2], [-1, 0, 2], [2, 2, 0]]\n",
            "2\n",
            "[-1, -1, 2]\n"
          ]
        }
      ]
    },
    {
      "cell_type": "code",
      "source": [
        "connections = []\n",
        "n = int(input(\"number of logic gates in the network: \"))\n",
        "for i in range(n):\n",
        "    print(f\"Input the connections of gate {i} separated by spaces: \")\n",
        "    user_input = input(\"List of connections to this gate separated by empty space: \")\n",
        "    input_list = user_input.split()\n",
        "    conn = [int(i) for i in input_list]\n",
        "    connections.append(conn)  # Use append to add a list at the end of `connections`\n",
        "print(connections)"
      ],
      "metadata": {
        "colab": {
          "base_uri": "https://localhost:8080/"
        },
        "id": "EK_2ub1MCPry",
        "outputId": "8c2ce2cd-e578-4a2b-c631-24e351e605aa"
      },
      "execution_count": 33,
      "outputs": [
        {
          "output_type": "stream",
          "name": "stdout",
          "text": [
            "number of logic gates in the network: 3\n",
            "Input the connections of gate 0 separated by spaces: \n",
            "List of connections to this gate separated by empty space: 0 1 0\n",
            "Input the connections of gate 1 separated by spaces: \n",
            "List of connections to this gate separated by empty space: 1 0 1\n",
            "Input the connections of gate 2 separated by spaces: \n",
            "List of connections to this gate separated by empty space: 0 1 0\n",
            "[[0, 1, 0], [1, 0, 1], [0, 1, 0]]\n"
          ]
        }
      ]
    },
    {
      "cell_type": "code",
      "source": [
        "\n"
      ],
      "metadata": {
        "id": "mHBwPAm6EWGM"
      },
      "execution_count": null,
      "outputs": []
    },
    {
      "cell_type": "code",
      "source": [
        "h_network = []\n",
        "for i in OR.connections:\n",
        "  if (i == 1):"
      ],
      "metadata": {
        "colab": {
          "base_uri": "https://localhost:8080/"
        },
        "id": "KY6Mj2AI6xg7",
        "outputId": "d3f6242d-ee66-43ee-cabc-232501bbea09"
      },
      "execution_count": 10,
      "outputs": [
        {
          "output_type": "stream",
          "name": "stdout",
          "text": [
            "1\n"
          ]
        }
      ]
    },
    {
      "cell_type": "code",
      "source": [
        "# Example of creating a 2D list\n",
        "two_d_list = [\n",
        "    [1, 2, 3],\n",
        "    [4, 5, 6],\n",
        "    [7, 8, 9]\n",
        "]\n",
        "print(two_d_list[2][1])  # Output: 2 (first row, second column)\n"
      ],
      "metadata": {
        "colab": {
          "base_uri": "https://localhost:8080/"
        },
        "id": "XyXjK2Hn5sr2",
        "outputId": "6a842f85-9a65-44a4-d3aa-775fb2bd5dda"
      },
      "execution_count": 4,
      "outputs": [
        {
          "output_type": "stream",
          "name": "stdout",
          "text": [
            "8\n"
          ]
        }
      ]
    },
    {
      "cell_type": "code",
      "source": [
        "dic = {}\n",
        "n = int(input(\"number of logic gates in the network: \"))\n",
        "for i in range  (1, n+1, 1): #start stop step\n",
        "  logic_gate = int(input(\"what type of logic gate is this?: \\n 1 AND \\n 2 OR \"))\n",
        "  user_input = input(\" \\n list of connections to this gate separated by empty space: \")\n",
        "  input_list = user_input.split()\n",
        "  connections = [int(i) for i in input_list]\n",
        "  dic[i] = [connections, logic_gate] #gate number: connections, logic gate type\n",
        "  print(\"\\n data of gate \", i, \"entered!\")\n",
        "\n",
        "print(dic)"
      ],
      "metadata": {
        "colab": {
          "base_uri": "https://localhost:8080/"
        },
        "id": "t0NDw90C7O-o",
        "outputId": "2aa8907f-a637-47f5-b75b-f01ca2127e1e"
      },
      "execution_count": 18,
      "outputs": [
        {
          "output_type": "stream",
          "name": "stdout",
          "text": [
            "number of logic gates in the network: 2\n",
            "what type of logic gate is this?: \n",
            " 1 AND \n",
            " 2 OR: 1\n",
            "list of connections to this gate separated by empty space: 2\n",
            "data of gate  1 entered!\n",
            "what type of logic gate is this?: \n",
            " 1 AND \n",
            " 2 OR: 2\n",
            "list of connections to this gate separated by empty space: 1\n",
            "data of gate  2 entered!\n",
            "{1: [[2], 1], 2: [[1], 2]}\n"
          ]
        }
      ]
    },
    {
      "cell_type": "code",
      "source": [],
      "metadata": {
        "colab": {
          "base_uri": "https://localhost:8080/"
        },
        "id": "Tmfhvv4K-iDU",
        "outputId": "11fbad73-4aa5-4750-f652-60dbfcbf028e"
      },
      "execution_count": 22,
      "outputs": [
        {
          "output_type": "stream",
          "name": "stdout",
          "text": [
            "[2]\n",
            "[1]\n"
          ]
        }
      ]
    },
    {
      "cell_type": "code",
      "source": [],
      "metadata": {
        "id": "7i-INycsBLp2"
      },
      "execution_count": null,
      "outputs": []
    }
  ]
}